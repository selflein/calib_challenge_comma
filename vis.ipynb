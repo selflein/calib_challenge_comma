{
 "cells": [
  {
   "cell_type": "code",
   "execution_count": 1,
   "metadata": {},
   "outputs": [],
   "source": [
    "import cv2\n",
    "import matplotlib.pyplot as plt\n",
    "import numpy as np\n",
    "\n",
    "import constants"
   ]
  },
  {
   "cell_type": "code",
   "execution_count": 2,
   "metadata": {},
   "outputs": [],
   "source": [
    "SCENE_IDX = 3"
   ]
  },
  {
   "cell_type": "code",
   "execution_count": 3,
   "metadata": {},
   "outputs": [],
   "source": [
    "pitch_yaw_labels = np.loadtxt(f'labeled/{SCENE_IDX}.txt') # Rotation around z axis (pitch) and y axis (yaw) \n",
    "pitch_yaw_preds = np.loadtxt(f'labeled/pred_labeled/{SCENE_IDX}.txt') # Rotation around z axis (pitch) and y axis (yaw) "
   ]
  },
  {
   "cell_type": "code",
   "execution_count": 4,
   "metadata": {},
   "outputs": [],
   "source": [
    "shifts = np.tan(pitch_yaw_labels) * constants.FOCAL_LENGTH\n",
    "shift_preds = np.tan(pitch_yaw_preds) * constants.FOCAL_LENGTH\n",
    "\n",
    "writer = cv2.VideoWriter(\"vis.mp4\", cv2.VideoWriter_fourcc(*'mp4v'), 20, (constants.WIDTH, constants.HEIGHT))"
   ]
  },
  {
   "cell_type": "code",
   "execution_count": 7,
   "metadata": {},
   "outputs": [],
   "source": [
    "cap = cv2.VideoCapture(f'labeled/{SCENE_IDX}.hevc')\n",
    "\n",
    "frame_counter = 0\n",
    "while True:\n",
    "    ret, frame = cap.read()\n",
    "\n",
    "    if not ret:\n",
    "        break\n",
    "\n",
    "    frame = cv2.circle(frame, constants.PP.astype(int), radius=2, color=(0, 0, 255), thickness=-1)\n",
    "\n",
    "    try:\n",
    "        frame = cv2.circle(frame, (constants.PP + shifts[frame_counter]).astype(int), radius=2, color=(0, 255, 255), thickness=-1)\n",
    "        frame = cv2.circle(frame, (constants.PP + shift_preds[frame_counter]).astype(int), radius=2, color=(255, 255, 255), thickness=-1)\n",
    "    except:\n",
    "        pass\n",
    "\n",
    "    writer.write(frame)\n",
    "    frame_counter += 1\n",
    "\n",
    "cap.release()\n",
    "writer.release()"
   ]
  },
  {
   "cell_type": "code",
   "execution_count": null,
   "metadata": {},
   "outputs": [],
   "source": [
    "def plot_mpl(image):\n",
    "    image = cv2.cvtColor(frame, cv2.COLOR_BGR2RGB)\n",
    "    height, width, _ = image.shape\n",
    "\n",
    "    plt.imshow(image)\n",
    "    plt.plot([width // 2], [height // 2], \"o\")\n",
    "    plt.plot([shifts[i, 0] + width // 2], [shifts[i, 1] + height // 2], \"o\")\n",
    "    plt.show()"
   ]
  }
 ],
 "metadata": {
  "kernelspec": {
   "display_name": "Python 3.9.15 ('calib_challenge')",
   "language": "python",
   "name": "python3"
  },
  "language_info": {
   "codemirror_mode": {
    "name": "ipython",
    "version": 3
   },
   "file_extension": ".py",
   "mimetype": "text/x-python",
   "name": "python",
   "nbconvert_exporter": "python",
   "pygments_lexer": "ipython3",
   "version": "3.9.15"
  },
  "orig_nbformat": 4,
  "vscode": {
   "interpreter": {
    "hash": "4b560e12e717c2a6b9cd430a8251bc1c39c217029faac714911e23bcc1f4aff1"
   }
  }
 },
 "nbformat": 4,
 "nbformat_minor": 2
}
